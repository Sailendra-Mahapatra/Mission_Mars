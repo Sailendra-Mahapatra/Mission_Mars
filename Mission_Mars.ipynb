{
 "cells": [
  {
   "cell_type": "code",
   "execution_count": 1,
   "metadata": {},
   "outputs": [],
   "source": [
    "# Dependencies\n",
    "\n",
    "from bs4 import BeautifulSoup as bs\n",
    "from splinter import Browser\n",
    "import pandas as pd\n",
    "import pymongo"
   ]
  },
  {
   "cell_type": "code",
   "execution_count": 2,
   "metadata": {},
   "outputs": [],
   "source": [
    "def init_browser():\n",
    "    # Replacing the path with your actual path to the chromedriver\n",
    "    executable_path = {\"executable_path\": \"/usr/local/bin/chromedriver\"}\n",
    "    return Browser(\"chrome\", **executable_path, headless=False)\n"
   ]
  },
  {
   "cell_type": "code",
   "execution_count": 3,
   "metadata": {},
   "outputs": [],
   "source": [
    "# NASA news URL\n",
    "browser = init_browser()\n",
    "url = \"https://mars.nasa.gov/news/\" \n",
    "browser.visit(url)"
   ]
  },
  {
   "cell_type": "code",
   "execution_count": 5,
   "metadata": {},
   "outputs": [],
   "source": [
    "# Scrapping url page into Beautifulsoup\n",
    "\n",
    "new_html = browser.html\n",
    "bsoup = bs(new_html, 'html.parser')"
   ]
  },
  {
   "cell_type": "code",
   "execution_count": 6,
   "metadata": {},
   "outputs": [
    {
     "name": "stdout",
     "output_type": "stream",
     "text": [
      "February 28, 2019\n",
      "After a Reset, Curiosity Is Operating Normally\n",
      "Curiosity has returned to science operations and is once again exploring the clay unit. \n"
     ]
    }
   ],
   "source": [
    "# Getting most recent article, title and date\n",
    "\n",
    "# Find the latest Mars news.\n",
    "\n",
    "#article = bsoup.find(\"div\", class_=\"list_text\").text\n",
    "\n",
    "news_p = bsoup.find('div', class_='rollover_description_inner').text\n",
    "news_title = bsoup.find(\"div\", class_=\"content_title\").text\n",
    "news_date = bsoup.find(\"div\", class_=\"list_date\").text\n",
    "\n",
    "\n",
    "\n",
    "#print(article)\n",
    "\n",
    "print(news_date)\n",
    "print(news_title)\n",
    "print(news_p)"
   ]
  },
  {
   "cell_type": "code",
   "execution_count": 7,
   "metadata": {},
   "outputs": [],
   "source": [
    "# Accessing the JPL Mars URL\n",
    "\n",
    "url2 = \"https://jpl.nasa.gov/spaceimages/?search=&category=Mars\" \n",
    "browser = init_browser()\n",
    "browser.visit(url2)"
   ]
  },
  {
   "cell_type": "code",
   "execution_count": 8,
   "metadata": {},
   "outputs": [],
   "source": [
    "# Scraping the browser into soup and using soup to find Mars image\n",
    "# Saving image url to a variable called `img_url`\n",
    "img_url ='0'\n",
    "new_html = browser.html\n",
    "bsoup = bs(new_html, 'html.parser')\n",
    "image = bsoup.find('img', class_=\"thumb\")[\"src\"]\n",
    "img_url = \"https://jpl.nasa.gov\"+image\n",
    "featured_image_url = img_url\n",
    "browser.quit()"
   ]
  },
  {
   "cell_type": "code",
   "execution_count": 9,
   "metadata": {},
   "outputs": [],
   "source": [
    "# Requesting library to download/save/display image from the above img_url\n",
    "\n",
    "import requests\n",
    "import shutil\n",
    "\n",
    "response = requests.get(featured_image_url, stream=True)\n",
    "with open('img.jpg', 'wb') as out_file:\n",
    "    shutil.copyfileobj(response.raw, out_file)"
   ]
  },
  {
   "cell_type": "code",
   "execution_count": 10,
   "metadata": {},
   "outputs": [
    {
     "data": {
      "text/html": [
       "<img src=\"img.jpg\"/>"
      ],
      "text/plain": [
       "<IPython.core.display.Image object>"
      ]
     },
     "execution_count": 10,
     "metadata": {},
     "output_type": "execute_result"
    }
   ],
   "source": [
    "# Displaying image with IPython.display\n",
    "\n",
    "from IPython.display import Image\n",
    "Image(url='img.jpg')"
   ]
  },
  {
   "cell_type": "code",
   "execution_count": 15,
   "metadata": {},
   "outputs": [
    {
     "name": "stdout",
     "output_type": "stream",
     "text": [
      "InSight sol 90 (2019-02-26) low -93.9ºC (-137.0ºF) high -12.1ºC (10.2ºF)\n",
      "winds from the SW at 4.2 m/s (9.3 mph) gusting to 12.0 m/s (26.9 mph)\n",
      "pressure at 7.20 hPa\n"
     ]
    }
   ],
   "source": [
    "# Visiting Mars Weather twitter/scraping the latest tweet.\n",
    "\n",
    "twt_url = 'https://twitter.com/marswxreport?lang=en'\n",
    "browser = init_browser()\n",
    "browser.visit(twt_url)\n",
    "\n",
    "new_html = browser.html\n",
    "bsoup = bs(new_html, 'html.parser')\n",
    "twt_rslt = bsoup.find_all('p', class_=\"TweetTextSize TweetTextSize--normal js-tweet-text tweet-text\")\n",
    "# twt_rslt = twt_rslt.replace('pic.twitter.com/1msjBvhiu7','')\n",
    "\n",
    "# Acessing next tweet from the twitter url\n",
    "\n",
    "twt_weather = twt_rslt[1].text\n",
    "twt_weather_twt = twt_weather.replace('pic.twitter.com/WlR4gr8gpC','')\n",
    "\n",
    "\n",
    "# Adding the weather data \n",
    "\n",
    "mars_weather = twt_weather_twt\n",
    "\n",
    "print(twt_weather_twt)\n",
    "browser.quit()\n"
   ]
  },
  {
   "cell_type": "code",
   "execution_count": 16,
   "metadata": {},
   "outputs": [],
   "source": [
    "# Scraping table data Mars web page into Pandas\n",
    "\n",
    "url3 = \"http://space-facts.com/mars/\"\n",
    "browser =init_browser()\n",
    "browser.visit(url3)"
   ]
  },
  {
   "cell_type": "code",
   "execution_count": 17,
   "metadata": {},
   "outputs": [
    {
     "data": {
      "text/html": [
       "<div>\n",
       "<style scoped>\n",
       "    .dataframe tbody tr th:only-of-type {\n",
       "        vertical-align: middle;\n",
       "    }\n",
       "\n",
       "    .dataframe tbody tr th {\n",
       "        vertical-align: top;\n",
       "    }\n",
       "\n",
       "    .dataframe thead th {\n",
       "        text-align: right;\n",
       "    }\n",
       "</style>\n",
       "<table border=\"1\" class=\"dataframe\">\n",
       "  <thead>\n",
       "    <tr style=\"text-align: right;\">\n",
       "      <th></th>\n",
       "      <th>Values</th>\n",
       "    </tr>\n",
       "    <tr>\n",
       "      <th>Description</th>\n",
       "      <th></th>\n",
       "    </tr>\n",
       "  </thead>\n",
       "  <tbody>\n",
       "    <tr>\n",
       "      <th>Equatorial Diameter:</th>\n",
       "      <td>6,792 km</td>\n",
       "    </tr>\n",
       "    <tr>\n",
       "      <th>Polar Diameter:</th>\n",
       "      <td>6,752 km</td>\n",
       "    </tr>\n",
       "    <tr>\n",
       "      <th>Mass:</th>\n",
       "      <td>6.42 x 10^23 kg (10.7% Earth)</td>\n",
       "    </tr>\n",
       "    <tr>\n",
       "      <th>Moons:</th>\n",
       "      <td>2 (Phobos &amp; Deimos)</td>\n",
       "    </tr>\n",
       "    <tr>\n",
       "      <th>Orbit Distance:</th>\n",
       "      <td>227,943,824 km (1.52 AU)</td>\n",
       "    </tr>\n",
       "    <tr>\n",
       "      <th>Orbit Period:</th>\n",
       "      <td>687 days (1.9 years)</td>\n",
       "    </tr>\n",
       "    <tr>\n",
       "      <th>Surface Temperature:</th>\n",
       "      <td>-153 to 20 °C</td>\n",
       "    </tr>\n",
       "    <tr>\n",
       "      <th>First Record:</th>\n",
       "      <td>2nd millennium BC</td>\n",
       "    </tr>\n",
       "    <tr>\n",
       "      <th>Recorded By:</th>\n",
       "      <td>Egyptian astronomers</td>\n",
       "    </tr>\n",
       "  </tbody>\n",
       "</table>\n",
       "</div>"
      ],
      "text/plain": [
       "                                             Values\n",
       "Description                                        \n",
       "Equatorial Diameter:                       6,792 km\n",
       "Polar Diameter:                            6,752 km\n",
       "Mass:                 6.42 x 10^23 kg (10.7% Earth)\n",
       "Moons:                          2 (Phobos & Deimos)\n",
       "Orbit Distance:            227,943,824 km (1.52 AU)\n",
       "Orbit Period:                  687 days (1.9 years)\n",
       "Surface Temperature:                  -153 to 20 °C\n",
       "First Record:                     2nd millennium BC\n",
       "Recorded By:                   Egyptian astronomers"
      ]
     },
     "execution_count": 17,
     "metadata": {},
     "output_type": "execute_result"
    }
   ],
   "source": [
    "# Populating data into a dataframe, cleaning and creating into an HTML table\n",
    "\n",
    "import pandas as pd\n",
    "grab = pd.read_html(url3)\n",
    "fact_df = pd.DataFrame(grab[0])\n",
    "fact_df = fact_df.rename(columns={0:'Description',1: 'Values'})\n",
    "fact_df = fact_df.set_index('Description')\n",
    "df_to_html = fact_df.to_html(classes='mars_scrape_info')\n",
    "df_to_html = df_to_html.replace(\"\\n\",\" \")\n",
    "fact_df\n"
   ]
  },
  {
   "cell_type": "code",
   "execution_count": 20,
   "metadata": {},
   "outputs": [],
   "source": [
    "# Scraping pictures of the hemispheres from USGS Astrogeology web page\n",
    "\n",
    "url4 = \"https://astrogeology.usgs.gov/search/results?q=hemisphere+enhanced&k1 =target&v1=Mars\"\n",
    "browser =init_browser()\n",
    "browser.visit(url4)"
   ]
  },
  {
   "cell_type": "code",
   "execution_count": 21,
   "metadata": {},
   "outputs": [],
   "source": [
    "# Loading 4 images and load them into dictionary\n",
    "\n",
    "import time\n",
    "\n",
    "new_html = browser.html\n",
    "bsoup = bs(new_html, 'html.parser')\n",
    "    \n",
    "image_mars = []\n",
    "\n",
    "for item in range(4):    \n",
    "    images = browser.find_by_tag('h3')\n",
    "    images[item].click()\n",
    "    new_html = browser.html\n",
    "    bsoup = bs(new_html, 'html.parser')\n",
    "    newContent = bsoup.find(\"img\", class_=\"wide-image\")[\"src\"]\n",
    "    img_title = bsoup.find(\"h2\", class_=\"title\").text\n",
    "    img_url = 'https://astrogeology.usgs.gov'+ newContent\n",
    "    img_dict = {\"title\":img_title,\"img_url\":img_url}\n",
    "    image_mars.append(img_dict)\n",
    "    time.sleep(1)\n",
    "    browser.back()\n",
    "\n"
   ]
  },
  {
   "cell_type": "code",
   "execution_count": 22,
   "metadata": {},
   "outputs": [
    {
     "data": {
      "text/plain": [
       "[{'title': 'Cerberus Hemisphere Enhanced',\n",
       "  'img_url': 'https://astrogeology.usgs.gov/cache/images/cfa62af2557222a02478f1fcd781d445_cerberus_enhanced.tif_full.jpg'},\n",
       " {'title': 'Schiaparelli Hemisphere Enhanced',\n",
       "  'img_url': 'https://astrogeology.usgs.gov/cache/images/3cdd1cbf5e0813bba925c9030d13b62e_schiaparelli_enhanced.tif_full.jpg'},\n",
       " {'title': 'Syrtis Major Hemisphere Enhanced',\n",
       "  'img_url': 'https://astrogeology.usgs.gov/cache/images/ae209b4e408bb6c3e67b6af38168cf28_syrtis_major_enhanced.tif_full.jpg'},\n",
       " {'title': 'Valles Marineris Hemisphere Enhanced',\n",
       "  'img_url': 'https://astrogeology.usgs.gov/cache/images/7cf2da4bf549ed01c17f206327be4db7_valles_marineris_enhanced.tif_full.jpg'}]"
      ]
     },
     "execution_count": 22,
     "metadata": {},
     "output_type": "execute_result"
    }
   ],
   "source": [
    "image_mars"
   ]
  },
  {
   "cell_type": "code",
   "execution_count": 23,
   "metadata": {},
   "outputs": [],
   "source": [
    "browser.quit()"
   ]
  },
  {
   "cell_type": "code",
   "execution_count": null,
   "metadata": {},
   "outputs": [],
   "source": []
  },
  {
   "cell_type": "code",
   "execution_count": null,
   "metadata": {},
   "outputs": [],
   "source": []
  }
 ],
 "metadata": {
  "kernelspec": {
   "display_name": "Python 3",
   "language": "python",
   "name": "python3"
  },
  "language_info": {
   "codemirror_mode": {
    "name": "ipython",
    "version": 3
   },
   "file_extension": ".py",
   "mimetype": "text/x-python",
   "name": "python",
   "nbconvert_exporter": "python",
   "pygments_lexer": "ipython3",
   "version": "3.6.8"
  }
 },
 "nbformat": 4,
 "nbformat_minor": 2
}
